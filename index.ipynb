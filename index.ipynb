{
 "cells": [
  {
   "cell_type": "markdown",
   "metadata": {},
   "source": [
    "# Folium - Codealong\n",
    "\n",
    "## Introduction \n",
    "\n",
    "In this codealong, we'll take a look at how to create an interactive map using the Folium package. From there, we'll return to APIs in the final lab for the day where you'll make an interactive map from your requests to the API!\n",
    "\n",
    "## Objectives\n",
    "\n",
    "You will be able to: \n",
    "* Create maps with Folium"
   ]
  },
  {
   "cell_type": "markdown",
   "metadata": {},
   "source": [
    "## Creating a Basemap\n",
    "\n",
    "Here we'll take a look at creating a basemap over the London region!"
   ]
  },
  {
   "cell_type": "code",
   "execution_count": 1,
   "metadata": {
    "scrolled": false
   },
   "outputs": [
    {
     "data": {
      "text/html": [
       "<div style=\"width:100%;\"><div style=\"position:relative;width:100%;height:0;padding-bottom:60%;\"><iframe src=\"data:text/html;charset=utf-8;base64,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\" style=\"position:absolute;width:100%;height:100%;left:0;top:0;border:none !important;\" allowfullscreen webkitallowfullscreen mozallowfullscreen></iframe></div></div>"
      ],
      "text/plain": [
       "<folium.folium.Map at 0x7f6d40793cc0>"
      ]
     },
     "execution_count": 1,
     "metadata": {},
     "output_type": "execute_result"
    }
   ],
   "source": [
    "import folium\n",
    "\n",
    "lat = 51.51\n",
    "long = -0.14\n",
    "\n",
    "#Create a map of the area\n",
    "base_map = folium.Map([lat, long], zoom_start=13)\n",
    "base_map"
   ]
  },
  {
   "cell_type": "markdown",
   "metadata": {},
   "source": [
    "## Adding Markers to the Map\n",
    "\n",
    "Great! Now let's take a look at adding little markers to our map!\n",
    "\n",
    "**Note:** you may have to zoom out to see all of the markers!"
   ]
  },
  {
   "cell_type": "code",
   "execution_count": 2,
   "metadata": {},
   "outputs": [
    {
     "data": {
      "text/html": [
       "<div style=\"width:100%;\"><div style=\"position:relative;width:100%;height:0;padding-bottom:60%;\"><iframe src=\"data:text/html;charset=utf-8;base64,PCFET0NUWVBFIGh0bWw+CjxoZWFkPiAgICAKICAgIDxtZXRhIGh0dHAtZXF1aXY9ImNvbnRlbnQtdHlwZSIgY29udGVudD0idGV4dC9odG1sOyBjaGFyc2V0PVVURi04IiAvPgogICAgPHNjcmlwdD5MX1BSRUZFUl9DQU5WQVM9ZmFsc2U7IExfTk9fVE9VQ0g9ZmFsc2U7IExfRElTQUJMRV8zRD1mYWxzZTs8L3NjcmlwdD4KICAgIDxzY3JpcHQgc3JjPSJodHRwczovL2Nkbi5qc2RlbGl2ci5uZXQvbnBtL2xlYWZsZXRAMS40LjAvZGlzdC9sZWFmbGV0LmpzIj48L3NjcmlwdD4KICAgIDxzY3JpcHQgc3JjPSJodHRwczovL2NvZGUuanF1ZXJ5LmNvbS9qcXVlcnktMS4xMi40Lm1pbi5qcyI+PC9zY3JpcHQ+CiAgICA8c2NyaXB0IHNyYz0iaHR0cHM6Ly9tYXhjZG4uYm9vdHN0cmFwY2RuLmNvbS9ib290c3RyYXAvMy4yLjAvanMvYm9vdHN0cmFwLm1pbi5qcyI+PC9zY3JpcHQ+CiAgICA8c2NyaXB0IHNyYz0iaHR0cHM6Ly9jZG5qcy5jbG91ZGZsYXJlLmNvbS9hamF4L2xpYnMvTGVhZmxldC5hd2Vzb21lLW1hcmtlcnMvMi4wLjIvbGVhZmxldC5hd2Vzb21lLW1hcmtlcnMuanMiPjwvc2NyaXB0PgogICAgPGxpbmsgcmVsPSJzdHlsZXNoZWV0IiBocmVmPSJodHRwczovL2Nkbi5qc2RlbGl2ci5uZXQvbnBtL2xlYWZsZXRAMS40LjAvZGlzdC9sZWFmbGV0LmNzcyIvPgogICAgPGxpbmsgcmVsPSJzdHlsZXNoZWV0IiBocmVmPSJodHRwczovL21heGNkbi5ib290c3RyYXBjZG4uY29tL2Jvb3RzdHJhcC8zLjIuMC9jc3MvYm9vdHN0cmFwLm1pbi5jc3MiLz4KICAgIDxsaW5rIHJlbD0ic3R5bGVzaGVldCIgaHJlZj0iaHR0cHM6Ly9tYXhjZG4uYm9vdHN0cmFwY2RuLmNvbS9ib290c3RyYXAvMy4yLjAvY3NzL2Jvb3RzdHJhcC10aGVtZS5taW4uY3NzIi8+CiAgICA8bGluayByZWw9InN0eWxlc2hlZXQiIGhyZWY9Imh0dHBzOi8vbWF4Y2RuLmJvb3RzdHJhcGNkbi5jb20vZm9udC1hd2Vzb21lLzQuNi4zL2Nzcy9mb250LWF3ZXNvbWUubWluLmNzcyIvPgogICAgPGxpbmsgcmVsPSJzdHlsZXNoZWV0IiBocmVmPSJodHRwczovL2NkbmpzLmNsb3VkZmxhcmUuY29tL2FqYXgvbGlicy9MZWFmbGV0LmF3ZXNvbWUtbWFya2Vycy8yLjAuMi9sZWFmbGV0LmF3ZXNvbWUtbWFya2Vycy5jc3MiLz4KICAgIDxsaW5rIHJlbD0ic3R5bGVzaGVldCIgaHJlZj0iaHR0cHM6Ly9yYXdjZG4uZ2l0aGFjay5jb20vcHl0aG9uLXZpc3VhbGl6YXRpb24vZm9saXVtL21hc3Rlci9mb2xpdW0vdGVtcGxhdGVzL2xlYWZsZXQuYXdlc29tZS5yb3RhdGUuY3NzIi8+CiAgICA8c3R5bGU+aHRtbCwgYm9keSB7d2lkdGg6IDEwMCU7aGVpZ2h0OiAxMDAlO21hcmdpbjogMDtwYWRkaW5nOiAwO308L3N0eWxlPgogICAgPHN0eWxlPiNtYXAge3Bvc2l0aW9uOmFic29sdXRlO3RvcDowO2JvdHRvbTowO3JpZ2h0OjA7bGVmdDowO308L3N0eWxlPgogICAgCiAgICA8bWV0YSBuYW1lPSJ2aWV3cG9ydCIgY29udGVudD0id2lkdGg9ZGV2aWNlLXdpZHRoLAogICAgICAgIGluaXRpYWwtc2NhbGU9MS4wLCBtYXhpbXVtLXNjYWxlPTEuMCwgdXNlci1zY2FsYWJsZT1ubyIgLz4KICAgIDxzdHlsZT4jbWFwX2UyMThjNTY2YzdlMjQ3OTQ5YzVjYmIzODU4Mzc2NDE3IHsKICAgICAgICBwb3NpdGlvbjogcmVsYXRpdmU7CiAgICAgICAgd2lkdGg6IDEwMC4wJTsKICAgICAgICBoZWlnaHQ6IDEwMC4wJTsKICAgICAgICBsZWZ0OiAwLjAlOwogICAgICAgIHRvcDogMC4wJTsKICAgICAgICB9CiAgICA8L3N0eWxlPgo8L2hlYWQ+Cjxib2R5PiAgICAKICAgIAogICAgPGRpdiBjbGFzcz0iZm9saXVtLW1hcCIgaWQ9Im1hcF9lMjE4YzU2NmM3ZTI0Nzk0OWM1Y2JiMzg1ODM3NjQxNyIgPjwvZGl2Pgo8L2JvZHk+CjxzY3JpcHQ+ICAgIAogICAgCiAgICAKICAgICAgICB2YXIgYm91bmRzID0gbnVsbDsKICAgIAoKICAgIHZhciBtYXBfZTIxOGM1NjZjN2UyNDc5NDljNWNiYjM4NTgzNzY0MTcgPSBMLm1hcCgKICAgICAgICAnbWFwX2UyMThjNTY2YzdlMjQ3OTQ5YzVjYmIzODU4Mzc2NDE3JywgewogICAgICAgIGNlbnRlcjogWzUxLjUxLCAtMC4xNF0sCiAgICAgICAgem9vbTogMTMsCiAgICAgICAgbWF4Qm91bmRzOiBib3VuZHMsCiAgICAgICAgbGF5ZXJzOiBbXSwKICAgICAgICB3b3JsZENvcHlKdW1wOiBmYWxzZSwKICAgICAgICBjcnM6IEwuQ1JTLkVQU0czODU3LAogICAgICAgIHpvb21Db250cm9sOiB0cnVlLAogICAgICAgIH0pOwoKCiAgICAKICAgIHZhciB0aWxlX2xheWVyX2FlMDFkMzg1ZjFhNDRkNDZiZjUyNDExOGVhYmE3YzVhID0gTC50aWxlTGF5ZXIoCiAgICAgICAgJ2h0dHBzOi8ve3N9LnRpbGUub3BlbnN0cmVldG1hcC5vcmcve3p9L3t4fS97eX0ucG5nJywKICAgICAgICB7CiAgICAgICAgImF0dHJpYnV0aW9uIjogbnVsbCwKICAgICAgICAiZGV0ZWN0UmV0aW5hIjogZmFsc2UsCiAgICAgICAgIm1heE5hdGl2ZVpvb20iOiAxOCwKICAgICAgICAibWF4Wm9vbSI6IDE4LAogICAgICAgICJtaW5ab29tIjogMCwKICAgICAgICAibm9XcmFwIjogZmFsc2UsCiAgICAgICAgIm9wYWNpdHkiOiAxLAogICAgICAgICJzdWJkb21haW5zIjogImFiYyIsCiAgICAgICAgInRtcyI6IGZhbHNlCn0pLmFkZFRvKG1hcF9lMjE4YzU2NmM3ZTI0Nzk0OWM1Y2JiMzg1ODM3NjQxNyk7CiAgICAKICAgICAgICB2YXIgbWFya2VyXzk4MWM3ZTg4NDkzYzRiZWU4NDZjYjkzZDUyNTI1YjdmID0gTC5tYXJrZXIoCiAgICAgICAgICAgIFs1MS41NjIzNjY4MjYyNDE4LCAtMC4wODI3Njc0NzYyODIyODI5XSwKICAgICAgICAgICAgewogICAgICAgICAgICAgICAgaWNvbjogbmV3IEwuSWNvbi5EZWZhdWx0KCksCiAgICAgICAgICAgICAgICB9CiAgICAgICAgICAgICkuYWRkVG8obWFwX2UyMThjNTY2YzdlMjQ3OTQ5YzVjYmIzODU4Mzc2NDE3KTsKICAgICAgICAKICAgIAogICAgICAgIHZhciBtYXJrZXJfNjExNDY4MzZmY2ZmNGQ5NmIzNDYwYmNiZTlmMDQxZmMgPSBMLm1hcmtlcigKICAgICAgICAgICAgWzUxLjQ3MjA4MzIyNzEzMjA0LCAtMC4wODY3MzQyMDAxNDgxODE3M10sCiAgICAgICAgICAgIHsKICAgICAgICAgICAgICAgIGljb246IG5ldyBMLkljb24uRGVmYXVsdCgpLAogICAgICAgICAgICAgICAgfQogICAgICAgICAgICApLmFkZFRvKG1hcF9lMjE4YzU2NmM3ZTI0Nzk0OWM1Y2JiMzg1ODM3NjQxNyk7CiAgICAgICAgCiAgICAKICAgICAgICB2YXIgbWFya2VyXzdlYWE1ZGQ5MTQxZDRmNmRhNzQ0YmVlNGJiMThiOTBkID0gTC5tYXJrZXIoCiAgICAgICAgICAgIFs1MS41MTA4NjUwMTkyMTUyNSwgLTAuMDczMTQyMDYzNTQwODM5NDRdLAogICAgICAgICAgICB7CiAgICAgICAgICAgICAgICBpY29uOiBuZXcgTC5JY29uLkRlZmF1bHQoKSwKICAgICAgICAgICAgICAgIH0KICAgICAgICAgICAgKS5hZGRUbyhtYXBfZTIxOGM1NjZjN2UyNDc5NDljNWNiYjM4NTgzNzY0MTcpOwogICAgICAgIAogICAgCiAgICAgICAgdmFyIG1hcmtlcl9jNzE0ZGQ2NGU1NTU0OWIxYWRjODI4ZWVhZDEyYjQxNiA9IEwubWFya2VyKAogICAgICAgICAgICBbNTEuNTY2MDU5MjkyNTIxMzIsIC0wLjIwMTE3NjU1NDAxNDc1NDMyXSwKICAgICAgICAgICAgewogICAgICAgICAgICAgICAgaWNvbjogbmV3IEwuSWNvbi5EZWZhdWx0KCksCiAgICAgICAgICAgICAgICB9CiAgICAgICAgICAgICkuYWRkVG8obWFwX2UyMThjNTY2YzdlMjQ3OTQ5YzVjYmIzODU4Mzc2NDE3KTsKICAgICAgICAKICAgIAogICAgICAgIHZhciBtYXJrZXJfOTRlY2I4NjE4OGFmNDI2MmE4OTgyMjNmOTQxODQyZTYgPSBMLm1hcmtlcigKICAgICAgICAgICAgWzUxLjQxNTQyNTg3Mjk2NzI1NSwgLTAuMTQzNDQzMTEwNzA1MDg3OV0sCiAgICAgICAgICAgIHsKICAgICAgICAgICAgICAgIGljb246IG5ldyBMLkljb24uRGVmYXVsdCgpLAogICAgICAgICAgICAgICAgfQogICAgICAgICAgICApLmFkZFRvKG1hcF9lMjE4YzU2NmM3ZTI0Nzk0OWM1Y2JiMzg1ODM3NjQxNyk7CiAgICAgICAgCiAgICAKICAgICAgICB2YXIgbWFya2VyX2FkNmM3NTc1MTQwNzQ0ZDFiNjAyNjA1NzQ4ZDliZDMyID0gTC5tYXJrZXIoCiAgICAgICAgICAgIFs1MS40NTEzMDIzNDM2NTcwMzQsIC0wLjE1ODUyODQ5OTA2MjE3MDVdLAogICAgICAgICAgICB7CiAgICAgICAgICAgICAgICBpY29uOiBuZXcgTC5JY29uLkRlZmF1bHQoKSwKICAgICAgICAgICAgICAgIH0KICAgICAgICAgICAgKS5hZGRUbyhtYXBfZTIxOGM1NjZjN2UyNDc5NDljNWNiYjM4NTgzNzY0MTcpOwogICAgICAgIAogICAgCiAgICAgICAgdmFyIG1hcmtlcl84NjU1ZDEwNGI1OWI0Zjg2YWE3Y2RmNGYxZDU1ODBhYiA9IEwubWFya2VyKAogICAgICAgICAgICBbNTEuNTE2NTMzNzI2NjAwMDUsIC0wLjE1MDUzNDM2MzQ2MDk3MjM4XSwKICAgICAgICAgICAgewogICAgICAgICAgICAgICAgaWNvbjogbmV3IEwuSWNvbi5EZWZhdWx0KCksCiAgICAgICAgICAgICAgICB9CiAgICAgICAgICAgICkuYWRkVG8obWFwX2UyMThjNTY2YzdlMjQ3OTQ5YzVjYmIzODU4Mzc2NDE3KTsKICAgICAgICAKICAgIAogICAgICAgIHZhciBtYXJrZXJfMjI1ZDgwNThhY2RiNDAxYmFjOGMwMDgzYTRiNDAyN2EgPSBMLm1hcmtlcigKICAgICAgICAgICAgWzUxLjQ1NzMxNjMzODA5MDYsIC0wLjEyNzc3Mjc0NzUwMjk3NzY1XSwKICAgICAgICAgICAgewogICAgICAgICAgICAgICAgaWNvbjogbmV3IEwuSWNvbi5EZWZhdWx0KCksCiAgICAgICAgICAgICAgICB9CiAgICAgICAgICAgICkuYWRkVG8obWFwX2UyMThjNTY2YzdlMjQ3OTQ5YzVjYmIzODU4Mzc2NDE3KTsKICAgICAgICAKICAgIAogICAgICAgIHZhciBtYXJrZXJfNGY2MTMyMjAwODNkNGQyMjlkMjI5NWRjZmJkYWQxMjQgPSBMLm1hcmtlcigKICAgICAgICAgICAgWzUxLjQ2MDE3MjY3MjAyNjEyLCAtMC4wNzExMDI4MjQwMzQ3NTYxMl0sCiAgICAgICAgICAgIHsKICAgICAgICAgICAgICAgIGljb246IG5ldyBMLkljb24uRGVmYXVsdCgpLAogICAgICAgICAgICAgICAgfQogICAgICAgICAgICApLmFkZFRvKG1hcF9lMjE4YzU2NmM3ZTI0Nzk0OWM1Y2JiMzg1ODM3NjQxNyk7CiAgICAgICAgCiAgICAKICAgICAgICB2YXIgbWFya2VyX2JiNDdiYjQ3ZTFhNzRkZjM4MDU1MDI1ZjJjNjUyNzRjID0gTC5tYXJrZXIoCiAgICAgICAgICAgIFs1MS42MDMwNDI1MTc3NTE4MywgLTAuMDU5NzY4MzkwNDU2MDM1OTM2XSwKICAgICAgICAgICAgewogICAgICAgICAgICAgICAgaWNvbjogbmV3IEwuSWNvbi5EZWZhdWx0KCksCiAgICAgICAgICAgICAgICB9CiAgICAgICAgICAgICkuYWRkVG8obWFwX2UyMThjNTY2YzdlMjQ3OTQ5YzVjYmIzODU4Mzc2NDE3KTsKICAgICAgICAKICAgIAogICAgICAgIHZhciBtYXJrZXJfMTg0NjI2MGI3NDYzNGE5OWI5OTc1YjM5MGUzZDIyZDEgPSBMLm1hcmtlcigKICAgICAgICAgICAgWzUxLjU0Nzc5ODc0MjY4ODQyLCAtMC4xMjc3OTUyODA1NTIxNTQxNF0sCiAgICAgICAgICAgIHsKICAgICAgICAgICAgICAgIGljb246IG5ldyBMLkljb24uRGVmYXVsdCgpLAogICAgICAgICAgICAgICAgfQogICAgICAgICAgICApLmFkZFRvKG1hcF9lMjE4YzU2NmM3ZTI0Nzk0OWM1Y2JiMzg1ODM3NjQxNyk7CiAgICAgICAgCiAgICAKICAgICAgICB2YXIgbWFya2VyXzA3ZWYyOGQ4OGVlOTQ3Njk5OTZmZmQ5NTY5OTAwMzRkID0gTC5tYXJrZXIoCiAgICAgICAgICAgIFs1MS41Nzg2MjE4NjA5MDYyOCwgLTAuMDY3MTk2MTUzNDU4MDg1NzddLAogICAgICAgICAgICB7CiAgICAgICAgICAgICAgICBpY29uOiBuZXcgTC5JY29uLkRlZmF1bHQoKSwKICAgICAgICAgICAgICAgIH0KICAgICAgICAgICAgKS5hZGRUbyhtYXBfZTIxOGM1NjZjN2UyNDc5NDljNWNiYjM4NTgzNzY0MTcpOwogICAgICAgIAogICAgCiAgICAgICAgdmFyIG1hcmtlcl9kNmZiNGU5YmYzZTM0N2Y2OTcxNWMyODE3NDY2ZGZjMSA9IEwubWFya2VyKAogICAgICAgICAgICBbNTEuNDc5Mjk2MTM1MDg2MzcsIC0wLjE5MzUyNzcxMjU3NzYwMl0sCiAgICAgICAgICAgIHsKICAgICAgICAgICAgICAgIGljb246IG5ldyBMLkljb24uRGVmYXVsdCgpLAogICAgICAgICAgICAgICAgfQogICAgICAgICAgICApLmFkZFRvKG1hcF9lMjE4YzU2NmM3ZTI0Nzk0OWM1Y2JiMzg1ODM3NjQxNyk7CiAgICAgICAgCiAgICAKICAgICAgICB2YXIgbWFya2VyXzdlZjBlOGY1YTMwMzRlOGY4ZmMxZDYxN2IzODQ4MGJhID0gTC5tYXJrZXIoCiAgICAgICAgICAgIFs1MS41NDkyNjQyNjI0NTg4LCAtMC4yMjI1OTU4Njk0MjU2NTE5M10sCiAgICAgICAgICAgIHsKICAgICAgICAgICAgICAgIGljb246IG5ldyBMLkljb24uRGVmYXVsdCgpLAogICAgICAgICAgICAgICAgfQogICAgICAgICAgICApLmFkZFRvKG1hcF9lMjE4YzU2NmM3ZTI0Nzk0OWM1Y2JiMzg1ODM3NjQxNyk7CiAgICAgICAgCiAgICAKICAgICAgICB2YXIgbWFya2VyXzA5YWE0ZjkxNzFkYzQzMTFiMTllZDgwZWQxNDU0MTUyID0gTC5tYXJrZXIoCiAgICAgICAgICAgIFs1MS42MDY3MDQ4NzI1NzQ2MywgLTAuMTI2Mjk0Njk4ODIxNzg3NjVdLAogICAgICAgICAgICB7CiAgICAgICAgICAgICAgICBpY29uOiBuZXcgTC5JY29uLkRlZmF1bHQoKSwKICAgICAgICAgICAgICAgIH0KICAgICAgICAgICAgKS5hZGRUbyhtYXBfZTIxOGM1NjZjN2UyNDc5NDljNWNiYjM4NTgzNzY0MTcpOwogICAgICAgIAogICAgCiAgICAgICAgdmFyIG1hcmtlcl9hNjQ5M2E2MjFjNzY0MDhiOGMyZWJhZDc2NDQ0N2E4ZCA9IEwubWFya2VyKAogICAgICAgICAgICBbNTEuNDg4MjcwNTYyNTY3NjE0LCAtMC4wNzE3MDUzMTE5Njk3MjU3NF0sCiAgICAgICAgICAgIHsKICAgICAgICAgICAgICAgIGljb246IG5ldyBMLkljb24uRGVmYXVsdCgpLAogICAgICAgICAgICAgICAgfQogICAgICAgICAgICApLmFkZFRvKG1hcF9lMjE4YzU2NmM3ZTI0Nzk0OWM1Y2JiMzg1ODM3NjQxNyk7CiAgICAgICAgCiAgICAKICAgICAgICB2YXIgbWFya2VyXzc3MjJhZGZmOGI1NDQxNzViYWM2YzUxNmZmMjBiYTNjID0gTC5tYXJrZXIoCiAgICAgICAgICAgIFs1MS41OTgwNjgyMjk1OTM4MSwgLTAuMjE5OTEwOTA4ODMwMzMxNzZdLAogICAgICAgICAgICB7CiAgICAgICAgICAgICAgICBpY29uOiBuZXcgTC5JY29uLkRlZmF1bHQoKSwKICAgICAgICAgICAgICAgIH0KICAgICAgICAgICAgKS5hZGRUbyhtYXBfZTIxOGM1NjZjN2UyNDc5NDljNWNiYjM4NTgzNzY0MTcpOwogICAgICAgIAogICAgCiAgICAgICAgdmFyIG1hcmtlcl80MThiNDYwOGNlM2I0OWVlOTljNGY1NTNjOTliZWY1MSA9IEwubWFya2VyKAogICAgICAgICAgICBbNTEuNDQyNDQ3ODUxNjI4NTcsIC0wLjA1OTUxNjI4MjQ4OTQzODg4XSwKICAgICAgICAgICAgewogICAgICAgICAgICAgICAgaWNvbjogbmV3IEwuSWNvbi5EZWZhdWx0KCksCiAgICAgICAgICAgICAgICB9CiAgICAgICAgICAgICkuYWRkVG8obWFwX2UyMThjNTY2YzdlMjQ3OTQ5YzVjYmIzODU4Mzc2NDE3KTsKICAgICAgICAKICAgIAogICAgICAgIHZhciBtYXJrZXJfNWZiOWFiNjRkMGRhNGY3ZTg1N2ViYWE5MDQ0ZTI2NzkgPSBMLm1hcmtlcigKICAgICAgICAgICAgWzUxLjUyODEyNzc1Nzk4OTAxLCAtMC4xMDA4ODY3OTc1ODkzMTg2OF0sCiAgICAgICAgICAgIHsKICAgICAgICAgICAgICAgIGljb246IG5ldyBMLkljb24uRGVmYXVsdCgpLAogICAgICAgICAgICAgICAgfQogICAgICAgICAgICApLmFkZFRvKG1hcF9lMjE4YzU2NmM3ZTI0Nzk0OWM1Y2JiMzg1ODM3NjQxNyk7CiAgICAgICAgCiAgICAKICAgICAgICB2YXIgbWFya2VyX2UxZjQzNjI3MGM4NzQ2NzA5YjcwY2VjODk2M2MwMzAyID0gTC5tYXJrZXIoCiAgICAgICAgICAgIFs1MS41MzkxMDAxNDgwMjgzMSwgLTAuMjE5MDE5MjI0ODk4OTUzMV0sCiAgICAgICAgICAgIHsKICAgICAgICAgICAgICAgIGljb246IG5ldyBMLkljb24uRGVmYXVsdCgpLAogICAgICAgICAgICAgICAgfQogICAgICAgICAgICApLmFkZFRvKG1hcF9lMjE4YzU2NmM3ZTI0Nzk0OWM1Y2JiMzg1ODM3NjQxNyk7CiAgICAgICAgCjwvc2NyaXB0Pg==\" style=\"position:absolute;width:100%;height:100%;left:0;top:0;border:none !important;\" allowfullscreen webkitallowfullscreen mozallowfullscreen></iframe></div></div>"
      ],
      "text/plain": [
       "<folium.folium.Map at 0x7f6d40793cc0>"
      ]
     },
     "execution_count": 2,
     "metadata": {},
     "output_type": "execute_result"
    }
   ],
   "source": [
    "import numpy as np\n",
    "\n",
    "#Generate some random locations to add to our map\n",
    "x = [lat + np.random.uniform(-.1,.1) for i in range(20)]\n",
    "y = [long + np.random.uniform(-.1,.1) for i in range(20)]\n",
    "points = list(zip(x, y))\n",
    "for p in points:\n",
    "    lat = p[0]\n",
    "    long = p[1]\n",
    "    marker = folium.Marker(location=[lat, long])\n",
    "    marker.add_to(base_map)\n",
    "base_map"
   ]
  },
  {
   "cell_type": "markdown",
   "metadata": {},
   "source": [
    "## Adding Pop-up Boxes to Our Markers\n",
    "\n",
    "Often we may wish to not only place markers on the map, but to create interactive pop-ups which display information to that location. To do this, we can add a popup to our markers when adding them to the map! "
   ]
  },
  {
   "cell_type": "code",
   "execution_count": null,
   "metadata": {},
   "outputs": [],
   "source": [
    "for p in points:\n",
    "    lat = p[0]\n",
    "    long = p[1]\n",
    "    popup_text = \"Latitude: {}, Longitude: {}\".format(lat,long)\n",
    "    popup = folium.Popup(popup_text, parse_html=True)\n",
    "    marker = folium.Marker(location=[lat, long], popup=popup)\n",
    "    marker.add_to(base_map)\n",
    "base_map"
   ]
  },
  {
   "cell_type": "markdown",
   "metadata": {},
   "source": [
    "Now, if you click on the map markers, you should see a little information box pop up!\n",
    "\n",
    "## Summary \n",
    "\n",
    "In this codealong, we learned how to use Folium to create some cool interactive maps with only a few lines of python code! In the next lab, you'll synthesize your skills for the day together and create an interactive visualization map for data you retrieve from the Yelp API!"
   ]
  }
 ],
 "metadata": {
  "kernelspec": {
   "display_name": "Python 3",
   "language": "python",
   "name": "python3"
  },
  "language_info": {
   "codemirror_mode": {
    "name": "ipython",
    "version": 3
   },
   "file_extension": ".py",
   "mimetype": "text/x-python",
   "name": "python",
   "nbconvert_exporter": "python",
   "pygments_lexer": "ipython3",
   "version": "3.6.6"
  }
 },
 "nbformat": 4,
 "nbformat_minor": 2
}
